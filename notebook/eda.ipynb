{
  "cells": [
    {
      "cell_type": "code",
      "source": [
        "from google.colab import drive\n",
        "drive.mount('/content/drive')"
      ],
      "metadata": {
        "colab": {
          "base_uri": "https://localhost:8080/"
        },
        "id": "zl-M3o4gp6ey",
        "outputId": "5354c6c6-37ea-4595-d36c-0ae14078c6c9"
      },
      "execution_count": 2,
      "outputs": [
        {
          "output_type": "stream",
          "name": "stdout",
          "text": [
            "Drive already mounted at /content/drive; to attempt to forcibly remount, call drive.mount(\"/content/drive\", force_remount=True).\n"
          ]
        }
      ]
    },
    {
      "cell_type": "code",
      "source": [
        "!git clone https://github.com/beltobel/Tnxs-kifiya3-week1-repo.git"
      ],
      "metadata": {
        "colab": {
          "base_uri": "https://localhost:8080/"
        },
        "id": "TNV1Ey1Krdl4",
        "outputId": "5bc64a92-974a-4c33-f0b9-09855ca1c63d"
      },
      "execution_count": 4,
      "outputs": [
        {
          "output_type": "stream",
          "name": "stdout",
          "text": [
            "fatal: destination path 'Tnxs-kifiya3-week1-repo' already exists and is not an empty directory.\n"
          ]
        }
      ]
    },
    {
      "cell_type": "code",
      "source": [
        "import os\n",
        "os.chdir('Tnxs-kifiya3-week1-repo')"
      ],
      "metadata": {
        "id": "ys5bmx-XsOno"
      },
      "execution_count": 5,
      "outputs": []
    },
    {
      "cell_type": "code",
      "source": [
        "!ls"
      ],
      "metadata": {
        "colab": {
          "base_uri": "https://localhost:8080/"
        },
        "id": "U_iisrUosWpO",
        "outputId": "c65904d4-a4fe-49c2-b531-dcbe4b8637e0"
      },
      "execution_count": 6,
      "outputs": [
        {
          "output_type": "stream",
          "name": "stdout",
          "text": [
            "notebook  README.md  requirements.txt  scripts\tsrc  Tnxs-kifiya3-week1-repo\n"
          ]
        }
      ]
    },
    {
      "cell_type": "code",
      "source": [
        "cd .."
      ],
      "metadata": {
        "colab": {
          "base_uri": "https://localhost:8080/"
        },
        "id": "_IG0N-mltWYu",
        "outputId": "90a0d48e-9c83-4069-c5c0-befe0d5d8c2c"
      },
      "execution_count": 8,
      "outputs": [
        {
          "output_type": "stream",
          "name": "stdout",
          "text": [
            "/content\n"
          ]
        }
      ]
    },
    {
      "cell_type": "code",
      "source": [
        "cd Tnxs-kifiya3-week1-repo"
      ],
      "metadata": {
        "colab": {
          "base_uri": "https://localhost:8080/"
        },
        "id": "205rkQEftFA2",
        "outputId": "258c8b9d-86f9-47a7-cbdd-ee19f7ef87d3"
      },
      "execution_count": 9,
      "outputs": [
        {
          "output_type": "stream",
          "name": "stdout",
          "text": [
            "/content/Tnxs-kifiya3-week1-repo\n"
          ]
        }
      ]
    },
    {
      "cell_type": "code",
      "execution_count": 10,
      "metadata": {
        "colab": {
          "base_uri": "https://localhost:8080/"
        },
        "id": "NkszSINip2TD",
        "outputId": "e3756f59-debc-44ea-be5b-5d0939d35fff"
      },
      "outputs": [
        {
          "output_type": "stream",
          "name": "stdout",
          "text": [
            "notebook  README.md  requirements.txt  scripts\tsrc  Tnxs-kifiya3-week1-repo\n"
          ]
        }
      ],
      "source": [
        "!ls"
      ]
    },
    {
      "cell_type": "code",
      "source": [
        "!git status"
      ],
      "metadata": {
        "colab": {
          "base_uri": "https://localhost:8080/"
        },
        "id": "Hl5xC0DKtstG",
        "outputId": "fc9dff79-fed0-4ee4-cf2c-4d775e1f0f27"
      },
      "execution_count": 39,
      "outputs": [
        {
          "output_type": "stream",
          "name": "stdout",
          "text": [
            "On branch main\n",
            "Your branch is up to date with 'origin/main'.\n",
            "\n",
            "nothing to commit, working tree clean\n"
          ]
        }
      ]
    },
    {
      "cell_type": "code",
      "source": [
        "!git checkout task-1"
      ],
      "metadata": {
        "colab": {
          "base_uri": "https://localhost:8080/"
        },
        "id": "3vP8nFBgtzUQ",
        "outputId": "744fcd9f-c6ab-47be-8c39-8d979b3033b3"
      },
      "execution_count": 40,
      "outputs": [
        {
          "output_type": "stream",
          "name": "stdout",
          "text": [
            "Branch 'task-1' set up to track remote branch 'task-1' from 'origin'.\n",
            "Switched to a new branch 'task-1'\n"
          ]
        }
      ]
    },
    {
      "cell_type": "code",
      "source": [
        "!git checkout task-1"
      ],
      "metadata": {
        "colab": {
          "base_uri": "https://localhost:8080/"
        },
        "id": "9gxTTXZ0t_bA",
        "outputId": "52939599-b89f-4ab4-d4bc-10d120aa4d6c"
      },
      "execution_count": 41,
      "outputs": [
        {
          "output_type": "stream",
          "name": "stdout",
          "text": [
            "Already on 'task-1'\n",
            "Your branch is up to date with 'origin/task-1'.\n"
          ]
        }
      ]
    },
    {
      "cell_type": "code",
      "source": [
        "!git config --global user.email \"beletebogale2@gmail.com\"\n",
        "!git config --global user.name \"beltobel\"\n"
      ],
      "metadata": {
        "id": "5LE22haKuoQF"
      },
      "execution_count": 11,
      "outputs": []
    },
    {
      "cell_type": "code",
      "source": [
        "!git add ."
      ],
      "metadata": {
        "id": "aBAzg0esuMTU"
      },
      "execution_count": 43,
      "outputs": []
    },
    {
      "cell_type": "code",
      "source": [
        "!git commit -m\"new change from colab\""
      ],
      "metadata": {
        "colab": {
          "base_uri": "https://localhost:8080/"
        },
        "id": "vZ_lNAjWuRLl",
        "outputId": "e8c62aaf-b9d1-48e8-f237-9a7b5539ec45"
      },
      "execution_count": 44,
      "outputs": [
        {
          "output_type": "stream",
          "name": "stdout",
          "text": [
            "On branch task-1\n",
            "Your branch is up to date with 'origin/task-1'.\n",
            "\n",
            "nothing to commit, working tree clean\n"
          ]
        }
      ]
    },
    {
      "cell_type": "code",
      "source": [
        "!git push"
      ],
      "metadata": {
        "colab": {
          "base_uri": "https://localhost:8080/"
        },
        "id": "9D8ObhmBvFKJ",
        "outputId": "e6afce1d-a2ba-4e67-a032-b178be598c86"
      },
      "execution_count": 45,
      "outputs": [
        {
          "output_type": "stream",
          "name": "stdout",
          "text": [
            "fatal: could not read Username for 'https://github.com': No such device or address\n"
          ]
        }
      ]
    },
    {
      "cell_type": "code",
      "source": [
        "import pandas as pd\n"
      ],
      "metadata": {
        "id": "tIrrV7amuHb4"
      },
      "execution_count": 12,
      "outputs": []
    },
    {
      "cell_type": "code",
      "execution_count": 24,
      "metadata": {
        "id": "_awdYnHCp2TG"
      },
      "outputs": [],
      "source": [
        "# import sys\n",
        "# import os\n",
        "\n",
        "# Add the path to the src directory\n",
        "# sys.path.append(os.path.abspath('../src'))"
      ]
    },
    {
      "cell_type": "code",
      "execution_count": 48,
      "metadata": {
        "id": "xnwJOSmyp2TG"
      },
      "outputs": [],
      "source": [
        "# Import necessary libraries\n",
        "from src.data_and_preprocessing import load_data, preprocess_data\n",
        "from src.text_analysis import analyze_sentiment, extract_keywords\n",
        "from src.time_series_analysis import publication_frequency\n",
        "from src.publishers_analysis import publisher_activity, unique_domains\n"
      ]
    },
    {
      "cell_type": "code",
      "source": [
        "from google.colab import drive\n",
        "drive.mount('/content/drive')"
      ],
      "metadata": {
        "id": "HZMtZ5Vd49ls",
        "outputId": "2f4dfefe-d035-4042-b19f-ac2fc8307007",
        "colab": {
          "base_uri": "https://localhost:8080/"
        }
      },
      "execution_count": 54,
      "outputs": [
        {
          "output_type": "stream",
          "name": "stdout",
          "text": [
            "Drive already mounted at /content/drive; to attempt to forcibly remount, call drive.mount(\"/content/drive\", force_remount=True).\n"
          ]
        }
      ]
    },
    {
      "cell_type": "code",
      "source": [
        "cd .."
      ],
      "metadata": {
        "id": "hmuBc_ny5STE",
        "outputId": "42e3b9ca-8f46-4f62-f1e0-bd70eeb616da",
        "colab": {
          "base_uri": "https://localhost:8080/"
        }
      },
      "execution_count": 57,
      "outputs": [
        {
          "output_type": "stream",
          "name": "stdout",
          "text": [
            "/content/Tnxs-kifiya3-week1-repo\n"
          ]
        }
      ]
    },
    {
      "cell_type": "code",
      "execution_count": 58,
      "metadata": {
        "id": "d_cXhxqDp2TH"
      },
      "outputs": [],
      "source": [
        "df = load_data('../../content/drive/My Drive/kifiya3_training/raw_analyst_ratings.csv')  # Adjust the path as needed\n",
        "# Load and preprocess data\n",
        "# df = load_data('raw_analyst_ratings.csv')\n",
        "\n"
      ]
    },
    {
      "cell_type": "code",
      "execution_count": 59,
      "metadata": {
        "id": "IXUgMqhRp2TJ"
      },
      "outputs": [],
      "source": [
        "df = preprocess_data(df)"
      ]
    },
    {
      "cell_type": "code",
      "execution_count": 60,
      "metadata": {
        "colab": {
          "base_uri": "https://localhost:8080/"
        },
        "id": "LlgPYhHwp2TJ",
        "outputId": "74a03d72-d772-46b9-a3dc-4ea65b423e42"
      },
      "outputs": [
        {
          "output_type": "stream",
          "name": "stdout",
          "text": [
            "55987 dates could not be parsed.\n",
            "0           NaT\n",
            "1           NaT\n",
            "2           NaT\n",
            "3           NaT\n",
            "4           NaT\n",
            "5           NaT\n",
            "6           NaT\n",
            "7           NaT\n",
            "8           NaT\n",
            "9           NaT\n",
            "10   2020-05-22\n",
            "11   2020-05-22\n",
            "12   2020-05-21\n",
            "13   2020-05-21\n",
            "14   2020-05-21\n",
            "15   2020-05-21\n",
            "16   2020-05-18\n",
            "17   2020-05-16\n",
            "18   2020-05-15\n",
            "19   2020-05-08\n",
            "Name: date, dtype: datetime64[ns]\n"
          ]
        }
      ],
      "source": [
        "# Check conversion results\n",
        "print(df['date'].isna().sum(), \"dates could not be parsed.\")\n",
        "print(df['date'].head(20))"
      ]
    },
    {
      "cell_type": "code",
      "execution_count": 61,
      "metadata": {
        "colab": {
          "base_uri": "https://localhost:8080/"
        },
        "id": "pJmM9poBp2TK",
        "outputId": "bd675431-9e2f-435f-9524-bc275604582e"
      },
      "outputs": [
        {
          "output_type": "stream",
          "name": "stdout",
          "text": [
            "         Unnamed: 0                           date  headline_length\n",
            "count  1.407328e+06                        1351341     1.407328e+06\n",
            "mean   7.072454e+05  2015-07-06 06:39:44.879020288     7.312051e+01\n",
            "min    0.000000e+00            2009-02-14 00:00:00     3.000000e+00\n",
            "25%    3.538128e+05            2012-12-04 00:00:00     4.700000e+01\n",
            "50%    7.072395e+05            2015-07-21 00:00:00     6.400000e+01\n",
            "75%    1.060710e+06            2018-03-09 00:00:00     8.700000e+01\n",
            "max    1.413848e+06            2020-06-03 00:00:00     5.120000e+02\n",
            "std    4.081009e+05                            NaN     4.073531e+01\n",
            "Number of articles per publisher: publisher\n",
            "Paul Quintaro                      228373\n",
            "Lisa Levin                         186979\n",
            "Benzinga Newsdesk                  150484\n",
            "Charles Gross                       96732\n",
            "Monica Gerson                       82380\n",
            "                                    ...  \n",
            "Shazir Mucklai - Imperium Group         1\n",
            "Laura Jennings                          1\n",
            "Eric Martin                             1\n",
            "Jose Rodrigo                            1\n",
            "Jeremie Capron                          1\n",
            "Name: count, Length: 1034, dtype: int64\n"
          ]
        }
      ],
      "source": [
        "\n",
        "# Descriptive Statistics\n",
        "print(df.describe())\n",
        "print(\"Number of articles per publisher:\", publisher_activity(df))"
      ]
    },
    {
      "cell_type": "code",
      "execution_count": null,
      "metadata": {
        "id": "HG6uW9qsp2TL"
      },
      "outputs": [],
      "source": [
        "\n",
        "# Text Analysis\n",
        "df = analyze_sentiment(df)\n",
        "keywords, keyword_matrix = extract_keywords(df)\n"
      ]
    },
    {
      "cell_type": "code",
      "execution_count": 1,
      "metadata": {
        "colab": {
          "base_uri": "https://localhost:8080/",
          "height": 222
        },
        "id": "I5XktKNmp2TL",
        "outputId": "b292dd01-4206-4729-dd74-f5e3e0df5597"
      },
      "outputs": [
        {
          "output_type": "error",
          "ename": "NameError",
          "evalue": "name 'publication_frequency' is not defined",
          "traceback": [
            "\u001b[0;31m---------------------------------------------------------------------------\u001b[0m",
            "\u001b[0;31mNameError\u001b[0m                                 Traceback (most recent call last)",
            "\u001b[0;32m<ipython-input-1-d9aab2915269>\u001b[0m in \u001b[0;36m<cell line: 2>\u001b[0;34m()\u001b[0m\n\u001b[1;32m      1\u001b[0m \u001b[0;31m# Time Series Analysis\u001b[0m\u001b[0;34m\u001b[0m\u001b[0;34m\u001b[0m\u001b[0m\n\u001b[0;32m----> 2\u001b[0;31m \u001b[0mfreq\u001b[0m \u001b[0;34m=\u001b[0m \u001b[0mpublication_frequency\u001b[0m\u001b[0;34m(\u001b[0m\u001b[0mdf\u001b[0m\u001b[0;34m)\u001b[0m\u001b[0;34m\u001b[0m\u001b[0;34m\u001b[0m\u001b[0m\n\u001b[0m\u001b[1;32m      3\u001b[0m \u001b[0;34m\u001b[0m\u001b[0m\n\u001b[1;32m      4\u001b[0m \u001b[0;31m# Publisher Analysis\u001b[0m\u001b[0;34m\u001b[0m\u001b[0;34m\u001b[0m\u001b[0m\n\u001b[1;32m      5\u001b[0m \u001b[0mprint\u001b[0m\u001b[0;34m(\u001b[0m\u001b[0;34m\"Unique domains:\"\u001b[0m\u001b[0;34m,\u001b[0m \u001b[0munique_domains\u001b[0m\u001b[0;34m(\u001b[0m\u001b[0mdf\u001b[0m\u001b[0;34m)\u001b[0m\u001b[0;34m)\u001b[0m\u001b[0;34m\u001b[0m\u001b[0;34m\u001b[0m\u001b[0m\n",
            "\u001b[0;31mNameError\u001b[0m: name 'publication_frequency' is not defined"
          ]
        }
      ],
      "source": [
        "\n",
        "# Time Series Analysis\n",
        "freq = publication_frequency(df)\n",
        "\n",
        "# Publisher Analysis\n",
        "*print(\"Unique domains:\", unique_domains(df))"
      ]
    },
    {
      "cell_type": "code",
      "source": [],
      "metadata": {
        "id": "gXqkWptD0ZXe"
      },
      "execution_count": null,
      "outputs": []
    }
  ],
  "metadata": {
    "kernelspec": {
      "display_name": "Python 3",
      "name": "python3"
    },
    "language_info": {
      "codemirror_mode": {
        "name": "ipython",
        "version": 3
      },
      "file_extension": ".py",
      "mimetype": "text/x-python",
      "name": "python",
      "nbconvert_exporter": "python",
      "pygments_lexer": "ipython3",
      "version": "3.13.1"
    },
    "colab": {
      "provenance": [],
      "gpuType": "T4"
    },
    "accelerator": "GPU"
  },
  "nbformat": 4,
  "nbformat_minor": 0
}