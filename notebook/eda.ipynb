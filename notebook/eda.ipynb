{
 "cells": [
  {
   "cell_type": "code",
   "execution_count": null,
   "metadata": {},
   "outputs": [],
   "source": [
    "import pandas as pd"
   ]
  },
  {
   "cell_type": "code",
   "execution_count": null,
   "metadata": {},
   "outputs": [],
   "source": [
    "# Import necessary libraries\n",
    "from src.data_and_preprocessing import load_data, preprocess_data\n",
    "from src.text_analysis import analyze_sentiment, extract_keywords\n",
    "from src.time_series_analysis import publication_frequency\n",
    "from src.publishers_analysis import publisher_activity, unique_domains\n"
   ]
  },
  {
   "cell_type": "code",
   "execution_count": null,
   "metadata": {},
   "outputs": [],
   "source": [
    "\n",
    "# Load and preprocess data\n",
    "df = load_data('G:/Tnxs/Kifiya3/Week1/Tnxs-kifiya3-week1-repo/src/data/raw_analyst_ratings.csv')\n",
    "df = preprocess_data(df)\n"
   ]
  },
  {
   "cell_type": "code",
   "execution_count": null,
   "metadata": {},
   "outputs": [],
   "source": [
    "\n",
    "# Descriptive Statistics\n",
    "print(df.describe())\n",
    "print(\"Number of articles per publisher:\", publisher_activity(df))\n"
   ]
  },
  {
   "cell_type": "code",
   "execution_count": null,
   "metadata": {},
   "outputs": [],
   "source": [
    "\n",
    "# Text Analysis\n",
    "df = analyze_sentiment(df)\n",
    "keywords, keyword_matrix = extract_keywords(df)\n"
   ]
  },
  {
   "cell_type": "code",
   "execution_count": null,
   "metadata": {},
   "outputs": [],
   "source": [
    "\n",
    "# Time Series Analysis\n",
    "freq = publication_frequency(df)\n",
    "\n",
    "# Publisher Analysis\n",
    "print(\"Unique domains:\", unique_domains(df))"
   ]
  }
 ],
 "metadata": {
  "kernelspec": {
   "display_name": "venv",
   "language": "python",
   "name": "python3"
  },
  "language_info": {
   "codemirror_mode": {
    "name": "ipython",
    "version": 3
   },
   "file_extension": ".py",
   "mimetype": "text/x-python",
   "name": "python",
   "nbconvert_exporter": "python",
   "pygments_lexer": "ipython3",
   "version": "3.13.1"
  }
 },
 "nbformat": 4,
 "nbformat_minor": 2
}
