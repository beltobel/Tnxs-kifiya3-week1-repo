{
  "cells": [
    {
      "cell_type": "code",
      "source": [
        "from google.colab import drive\n",
        "drive.mount('/content/drive')"
      ],
      "metadata": {
        "id": "zl-M3o4gp6ey",
        "outputId": "589f807a-87bf-419a-e520-ae63e2712833",
        "colab": {
          "base_uri": "https://localhost:8080/"
        }
      },
      "execution_count": 1,
      "outputs": [
        {
          "output_type": "stream",
          "name": "stdout",
          "text": [
            "Mounted at /content/drive\n"
          ]
        }
      ]
    },
    {
      "cell_type": "code",
      "source": [
        "!git clone https://github.com/beltobel/Tnxs-kifiya3-week1-repo.git"
      ],
      "metadata": {
        "id": "TNV1Ey1Krdl4",
        "outputId": "56219c95-25c5-4751-b239-12b03eb10973",
        "colab": {
          "base_uri": "https://localhost:8080/"
        }
      },
      "execution_count": 2,
      "outputs": [
        {
          "output_type": "stream",
          "name": "stdout",
          "text": [
            "Cloning into 'Tnxs-kifiya3-week1-repo'...\n",
            "remote: Enumerating objects: 46, done.\u001b[K\n",
            "remote: Counting objects: 100% (46/46), done.\u001b[K\n",
            "remote: Compressing objects: 100% (35/35), done.\u001b[K\n",
            "remote: Total 46 (delta 11), reused 31 (delta 4), pack-reused 0 (from 0)\u001b[K\n",
            "Receiving objects: 100% (46/46), 13.65 KiB | 6.82 MiB/s, done.\n",
            "Resolving deltas: 100% (11/11), done.\n"
          ]
        }
      ]
    },
    {
      "cell_type": "code",
      "source": [
        "import os\n",
        "os.chdir('Tnxs-kifiya3-week1-repo')"
      ],
      "metadata": {
        "id": "ys5bmx-XsOno"
      },
      "execution_count": 3,
      "outputs": []
    },
    {
      "cell_type": "code",
      "source": [
        "!ls"
      ],
      "metadata": {
        "id": "U_iisrUosWpO",
        "outputId": "5f1a8845-1b70-40a1-c505-98c21b8cbd95",
        "colab": {
          "base_uri": "https://localhost:8080/"
        }
      },
      "execution_count": 4,
      "outputs": [
        {
          "output_type": "stream",
          "name": "stdout",
          "text": [
            "notebook  README.md  requirements.txt  scripts\tsrc\n"
          ]
        }
      ]
    },
    {
      "cell_type": "code",
      "source": [
        "!ls"
      ],
      "metadata": {
        "id": "GOevOZwHskwe",
        "outputId": "7c6452fb-08ee-479d-c4db-2416916ee0b9",
        "colab": {
          "base_uri": "https://localhost:8080/"
        }
      },
      "execution_count": 6,
      "outputs": [
        {
          "output_type": "stream",
          "name": "stdout",
          "text": [
            "drive  sample_data  Tnxs-kifiya3-week1-repo\n"
          ]
        }
      ]
    },
    {
      "cell_type": "code",
      "source": [
        "cd Tnxs-kifiya3-week1-repo"
      ],
      "metadata": {
        "id": "205rkQEftFA2",
        "outputId": "715adcd0-3842-4022-9561-7b8db79c28aa",
        "colab": {
          "base_uri": "https://localhost:8080/"
        }
      },
      "execution_count": 9,
      "outputs": [
        {
          "output_type": "stream",
          "name": "stdout",
          "text": [
            "/content/Tnxs-kifiya3-week1-repo\n"
          ]
        }
      ]
    },
    {
      "cell_type": "code",
      "source": [
        "cd .."
      ],
      "metadata": {
        "id": "_IG0N-mltWYu",
        "outputId": "1e0ee8d9-3a54-4fb9-f496-310e78dce7eb",
        "colab": {
          "base_uri": "https://localhost:8080/"
        }
      },
      "execution_count": 11,
      "outputs": [
        {
          "output_type": "stream",
          "name": "stdout",
          "text": [
            "/content/Tnxs-kifiya3-week1-repo\n"
          ]
        }
      ]
    },
    {
      "cell_type": "code",
      "execution_count": null,
      "metadata": {
        "id": "NkszSINip2TD"
      },
      "outputs": [],
      "source": []
    },
    {
      "cell_type": "code",
      "source": [
        "!git status"
      ],
      "metadata": {
        "id": "Hl5xC0DKtstG",
        "outputId": "e9dfc1a7-d693-487d-d054-76a88ad62640",
        "colab": {
          "base_uri": "https://localhost:8080/"
        }
      },
      "execution_count": 12,
      "outputs": [
        {
          "output_type": "stream",
          "name": "stdout",
          "text": [
            "On branch main\n",
            "Your branch is up to date with 'origin/main'.\n",
            "\n",
            "nothing to commit, working tree clean\n"
          ]
        }
      ]
    },
    {
      "cell_type": "code",
      "source": [
        "!git checkout task-1"
      ],
      "metadata": {
        "id": "3vP8nFBgtzUQ",
        "outputId": "1bd79341-e30c-42fd-a1ac-67faf4e70543",
        "colab": {
          "base_uri": "https://localhost:8080/"
        }
      },
      "execution_count": 13,
      "outputs": [
        {
          "output_type": "stream",
          "name": "stdout",
          "text": [
            "Branch 'task-1' set up to track remote branch 'task-1' from 'origin'.\n",
            "Switched to a new branch 'task-1'\n"
          ]
        }
      ]
    },
    {
      "cell_type": "code",
      "source": [
        "!git checkout task-1"
      ],
      "metadata": {
        "id": "9gxTTXZ0t_bA",
        "outputId": "0d113af0-6b3b-40b9-e20a-875925985a61",
        "colab": {
          "base_uri": "https://localhost:8080/"
        }
      },
      "execution_count": 14,
      "outputs": [
        {
          "output_type": "stream",
          "name": "stdout",
          "text": [
            "Already on 'task-1'\n",
            "Your branch is up to date with 'origin/task-1'.\n"
          ]
        }
      ]
    },
    {
      "cell_type": "code",
      "source": [
        "!git config --global user.email \"beletebogale2@gmail.com\"\n",
        "!git config --global user.name \"beltobel\"\n"
      ],
      "metadata": {
        "id": "5LE22haKuoQF"
      },
      "execution_count": 17,
      "outputs": []
    },
    {
      "cell_type": "code",
      "source": [
        "!git add ."
      ],
      "metadata": {
        "id": "aBAzg0esuMTU"
      },
      "execution_count": 18,
      "outputs": []
    },
    {
      "cell_type": "code",
      "source": [
        "!git commit -m\"new change from colab\""
      ],
      "metadata": {
        "id": "vZ_lNAjWuRLl",
        "outputId": "62c0a847-334e-45a6-de57-aa193c229ca0",
        "colab": {
          "base_uri": "https://localhost:8080/"
        }
      },
      "execution_count": 19,
      "outputs": [
        {
          "output_type": "stream",
          "name": "stdout",
          "text": [
            "On branch task-1\n",
            "Your branch is up to date with 'origin/task-1'.\n",
            "\n",
            "nothing to commit, working tree clean\n"
          ]
        }
      ]
    },
    {
      "cell_type": "code",
      "source": [
        "!git push"
      ],
      "metadata": {
        "id": "9D8ObhmBvFKJ",
        "outputId": "376cb0c9-264b-44e4-8710-4e6825fd45fd",
        "colab": {
          "base_uri": "https://localhost:8080/"
        }
      },
      "execution_count": 20,
      "outputs": [
        {
          "output_type": "stream",
          "name": "stdout",
          "text": [
            "fatal: could not read Username for 'https://github.com': No such device or address\n"
          ]
        }
      ]
    },
    {
      "cell_type": "code",
      "source": [
        "import pandas as pd\n"
      ],
      "metadata": {
        "id": "tIrrV7amuHb4"
      },
      "execution_count": null,
      "outputs": []
    },
    {
      "cell_type": "code",
      "execution_count": null,
      "metadata": {
        "id": "_awdYnHCp2TG"
      },
      "outputs": [],
      "source": [
        "import sys\n",
        "import os\n",
        "\n",
        "# Add the path to the src directory\n",
        "sys.path.append(os.path.abspath('../src'))"
      ]
    },
    {
      "cell_type": "code",
      "execution_count": null,
      "metadata": {
        "id": "xnwJOSmyp2TG"
      },
      "outputs": [],
      "source": [
        "# Import necessary libraries\n",
        "from data_and_preprocessing import load_data, preprocess_data\n",
        "from text_analysis import analyze_sentiment, extract_keywords\n",
        "from time_series_analysis import publication_frequency\n",
        "from publishers_analysis import publisher_activity, unique_domains\n"
      ]
    },
    {
      "cell_type": "code",
      "execution_count": null,
      "metadata": {
        "id": "d_cXhxqDp2TH"
      },
      "outputs": [],
      "source": [
        "\n",
        "# Load and preprocess data\n",
        "df = load_data('raw_analyst_ratings.csv')\n",
        "\n"
      ]
    },
    {
      "cell_type": "code",
      "execution_count": null,
      "metadata": {
        "id": "KQeQA_Fyp2TH"
      },
      "outputs": [],
      "source": [
        "# print(df['date'].head())\n",
        "\n",
        "# # Check for unique values or types\n",
        "# print(df['date'].unique())"
      ]
    },
    {
      "cell_type": "code",
      "execution_count": null,
      "metadata": {
        "id": "CHz755DUp2TI"
      },
      "outputs": [],
      "source": [
        "# #Clean the date column\n",
        "# df['date'] = df['date'].str.strip()\n"
      ]
    },
    {
      "cell_type": "code",
      "execution_count": null,
      "metadata": {
        "id": "7kM3H3b_p2TI"
      },
      "outputs": [],
      "source": [
        "# # Define a function to parse dates with multiple formats\n",
        "# def parse_dates(date_str):\n",
        "#     for fmt in (\"%Y-%m-%d %H:%M:%S\", \"%Y/%m/%d\", \"%d-%m-%Y\"):\n",
        "#         try:\n",
        "#             return pd.to_datetime(date_str, format=fmt)\n",
        "#         except ValueError:\n",
        "#             continue\n",
        "#     return pd.NaT\n",
        "\n",
        "# # Apply the parsing function\n",
        "# df['date'] = df['date'].apply(parse_dates)\n"
      ]
    },
    {
      "cell_type": "code",
      "execution_count": null,
      "metadata": {
        "id": "IffdQegRp2TI"
      },
      "outputs": [],
      "source": [
        "# Check conversion results\n",
        "# print(df['date'].isna().sum(), \"dates could not be parsed.\")\n",
        "# print(df['date'].head(50))"
      ]
    },
    {
      "cell_type": "code",
      "execution_count": null,
      "metadata": {
        "id": "IXUgMqhRp2TJ"
      },
      "outputs": [],
      "source": [
        "df = preprocess_data(df)"
      ]
    },
    {
      "cell_type": "code",
      "execution_count": null,
      "metadata": {
        "id": "LlgPYhHwp2TJ",
        "outputId": "18463243-acf5-4609-da82-4b83c19ea240"
      },
      "outputs": [
        {
          "name": "stdout",
          "output_type": "stream",
          "text": [
            "55987 dates could not be parsed.\n",
            "0           NaT\n",
            "1           NaT\n",
            "2           NaT\n",
            "3           NaT\n",
            "4           NaT\n",
            "5           NaT\n",
            "6           NaT\n",
            "7           NaT\n",
            "8           NaT\n",
            "9           NaT\n",
            "10   2020-05-22\n",
            "11   2020-05-22\n",
            "12   2020-05-21\n",
            "13   2020-05-21\n",
            "14   2020-05-21\n",
            "15   2020-05-21\n",
            "16   2020-05-18\n",
            "17   2020-05-16\n",
            "18   2020-05-15\n",
            "19   2020-05-08\n",
            "20   2020-05-05\n",
            "21   2020-05-01\n",
            "22   2020-04-28\n",
            "23   2020-04-23\n",
            "24   2020-04-22\n",
            "25   2020-04-14\n",
            "26   2020-04-08\n",
            "27   2020-04-06\n",
            "28   2020-04-02\n",
            "29   2020-04-01\n",
            "30   2020-03-31\n",
            "31   2020-03-30\n",
            "32   2020-03-30\n",
            "33   2020-03-27\n",
            "34   2020-03-26\n",
            "35   2020-03-26\n",
            "36   2020-03-26\n",
            "37   2020-03-20\n",
            "38   2020-03-16\n",
            "39   2020-03-16\n",
            "40   2020-03-13\n",
            "41   2020-03-12\n",
            "42   2020-03-11\n",
            "43   2020-03-03\n",
            "44   2020-03-02\n",
            "45   2020-02-24\n",
            "46   2020-02-24\n",
            "47   2020-02-24\n",
            "48   2020-02-19\n",
            "49   2020-02-18\n",
            "Name: date, dtype: datetime64[ns]\n"
          ]
        }
      ],
      "source": [
        "# Check conversion results\n",
        "print(df['date'].isna().sum(), \"dates could not be parsed.\")\n",
        "print(df['date'].head(50))"
      ]
    },
    {
      "cell_type": "code",
      "execution_count": null,
      "metadata": {
        "id": "pJmM9poBp2TK",
        "outputId": "6f9b44d5-6edd-43ea-c036-684e2989b699"
      },
      "outputs": [
        {
          "name": "stdout",
          "output_type": "stream",
          "text": [
            "         Unnamed: 0                           date  headline_length\n",
            "count  1.407328e+06                        1351341     1.407328e+06\n",
            "mean   7.072454e+05  2015-07-06 06:39:44.879020288     7.312051e+01\n",
            "min    0.000000e+00            2009-02-14 00:00:00     3.000000e+00\n",
            "25%    3.538128e+05            2012-12-04 00:00:00     4.700000e+01\n",
            "50%    7.072395e+05            2015-07-21 00:00:00     6.400000e+01\n",
            "75%    1.060710e+06            2018-03-09 00:00:00     8.700000e+01\n",
            "max    1.413848e+06            2020-06-03 00:00:00     5.120000e+02\n",
            "std    4.081009e+05                            NaN     4.073531e+01\n",
            "Number of articles per publisher: publisher\n",
            "Paul Quintaro        228373\n",
            "Lisa Levin           186979\n",
            "Benzinga Newsdesk    150484\n",
            "Charles Gross         96732\n",
            "Monica Gerson         82380\n",
            "                      ...  \n",
            "MoneyGeek                 1\n",
            "muathe                    1\n",
            "Robert Morris             1\n",
            "LeftCoastHedgie           1\n",
            "Jeremie Capron            1\n",
            "Name: count, Length: 1034, dtype: int64\n"
          ]
        }
      ],
      "source": [
        "\n",
        "# Descriptive Statistics\n",
        "print(df.describe())\n",
        "print(\"Number of articles per publisher:\", publisher_activity(df))"
      ]
    },
    {
      "cell_type": "code",
      "execution_count": null,
      "metadata": {
        "id": "HG6uW9qsp2TL",
        "outputId": "b6083268-95f0-40ff-a5fa-ac873989b243"
      },
      "outputs": [
        {
          "ename": "MemoryError",
          "evalue": "Unable to allocate 1.11 TiB for an array with shape (1407328, 108488) and data type int64",
          "output_type": "error",
          "traceback": [
            "\u001b[1;31m---------------------------------------------------------------------------\u001b[0m",
            "\u001b[1;31mMemoryError\u001b[0m                               Traceback (most recent call last)",
            "Cell \u001b[1;32mIn[28], line 3\u001b[0m\n\u001b[0;32m      1\u001b[0m \u001b[38;5;66;03m# Text Analysis\u001b[39;00m\n\u001b[0;32m      2\u001b[0m df \u001b[38;5;241m=\u001b[39m analyze_sentiment(df)\n\u001b[1;32m----> 3\u001b[0m keywords, keyword_matrix \u001b[38;5;241m=\u001b[39m \u001b[43mextract_keywords\u001b[49m\u001b[43m(\u001b[49m\u001b[43mdf\u001b[49m\u001b[43m)\u001b[49m\n",
            "File \u001b[1;32mg:\\Tnxs\\Kifiya3\\Week1\\Tnxs-kifiya3-week1-repo\\src\\text_analysis.py:16\u001b[0m, in \u001b[0;36mextract_keywords\u001b[1;34m(df)\u001b[0m\n\u001b[0;32m     14\u001b[0m vectorizer \u001b[38;5;241m=\u001b[39m CountVectorizer(stop_words\u001b[38;5;241m=\u001b[39m\u001b[38;5;124m'\u001b[39m\u001b[38;5;124menglish\u001b[39m\u001b[38;5;124m'\u001b[39m)\n\u001b[0;32m     15\u001b[0m X \u001b[38;5;241m=\u001b[39m vectorizer\u001b[38;5;241m.\u001b[39mfit_transform(df[\u001b[38;5;124m'\u001b[39m\u001b[38;5;124mheadline\u001b[39m\u001b[38;5;124m'\u001b[39m])\n\u001b[1;32m---> 16\u001b[0m \u001b[38;5;28;01mreturn\u001b[39;00m vectorizer\u001b[38;5;241m.\u001b[39mget_feature_names_out(), \u001b[43mX\u001b[49m\u001b[38;5;241;43m.\u001b[39;49m\u001b[43mtoarray\u001b[49m\u001b[43m(\u001b[49m\u001b[43m)\u001b[49m\n",
            "File \u001b[1;32mg:\\Tnxs\\Kifiya3\\Week1\\Tnxs-kifiya3-week1-repo\\venv\\Lib\\site-packages\\scipy\\sparse\\_compressed.py:1181\u001b[0m, in \u001b[0;36m_cs_matrix.toarray\u001b[1;34m(self, order, out)\u001b[0m\n\u001b[0;32m   1179\u001b[0m \u001b[38;5;28;01mif\u001b[39;00m out \u001b[38;5;129;01mis\u001b[39;00m \u001b[38;5;28;01mNone\u001b[39;00m \u001b[38;5;129;01mand\u001b[39;00m order \u001b[38;5;129;01mis\u001b[39;00m \u001b[38;5;28;01mNone\u001b[39;00m:\n\u001b[0;32m   1180\u001b[0m     order \u001b[38;5;241m=\u001b[39m \u001b[38;5;28mself\u001b[39m\u001b[38;5;241m.\u001b[39m_swap(\u001b[38;5;124m'\u001b[39m\u001b[38;5;124mcf\u001b[39m\u001b[38;5;124m'\u001b[39m)[\u001b[38;5;241m0\u001b[39m]\n\u001b[1;32m-> 1181\u001b[0m out \u001b[38;5;241m=\u001b[39m \u001b[38;5;28;43mself\u001b[39;49m\u001b[38;5;241;43m.\u001b[39;49m\u001b[43m_process_toarray_args\u001b[49m\u001b[43m(\u001b[49m\u001b[43morder\u001b[49m\u001b[43m,\u001b[49m\u001b[43m \u001b[49m\u001b[43mout\u001b[49m\u001b[43m)\u001b[49m\n\u001b[0;32m   1182\u001b[0m \u001b[38;5;28;01mif\u001b[39;00m \u001b[38;5;129;01mnot\u001b[39;00m (out\u001b[38;5;241m.\u001b[39mflags\u001b[38;5;241m.\u001b[39mc_contiguous \u001b[38;5;129;01mor\u001b[39;00m out\u001b[38;5;241m.\u001b[39mflags\u001b[38;5;241m.\u001b[39mf_contiguous):\n\u001b[0;32m   1183\u001b[0m     \u001b[38;5;28;01mraise\u001b[39;00m \u001b[38;5;167;01mValueError\u001b[39;00m(\u001b[38;5;124m'\u001b[39m\u001b[38;5;124mOutput array must be C or F contiguous\u001b[39m\u001b[38;5;124m'\u001b[39m)\n",
            "File \u001b[1;32mg:\\Tnxs\\Kifiya3\\Week1\\Tnxs-kifiya3-week1-repo\\venv\\Lib\\site-packages\\scipy\\sparse\\_base.py:1301\u001b[0m, in \u001b[0;36m_spbase._process_toarray_args\u001b[1;34m(self, order, out)\u001b[0m\n\u001b[0;32m   1299\u001b[0m     \u001b[38;5;28;01mreturn\u001b[39;00m out\n\u001b[0;32m   1300\u001b[0m \u001b[38;5;28;01melse\u001b[39;00m:\n\u001b[1;32m-> 1301\u001b[0m     \u001b[38;5;28;01mreturn\u001b[39;00m \u001b[43mnp\u001b[49m\u001b[38;5;241;43m.\u001b[39;49m\u001b[43mzeros\u001b[49m\u001b[43m(\u001b[49m\u001b[38;5;28;43mself\u001b[39;49m\u001b[38;5;241;43m.\u001b[39;49m\u001b[43mshape\u001b[49m\u001b[43m,\u001b[49m\u001b[43m \u001b[49m\u001b[43mdtype\u001b[49m\u001b[38;5;241;43m=\u001b[39;49m\u001b[38;5;28;43mself\u001b[39;49m\u001b[38;5;241;43m.\u001b[39;49m\u001b[43mdtype\u001b[49m\u001b[43m,\u001b[49m\u001b[43m \u001b[49m\u001b[43morder\u001b[49m\u001b[38;5;241;43m=\u001b[39;49m\u001b[43morder\u001b[49m\u001b[43m)\u001b[49m\n",
            "\u001b[1;31mMemoryError\u001b[0m: Unable to allocate 1.11 TiB for an array with shape (1407328, 108488) and data type int64"
          ]
        }
      ],
      "source": [
        "\n",
        "# Text Analysis\n",
        "df = analyze_sentiment(df)\n",
        "keywords, keyword_matrix = extract_keywords(df)\n"
      ]
    },
    {
      "cell_type": "code",
      "execution_count": null,
      "metadata": {
        "id": "I5XktKNmp2TL"
      },
      "outputs": [],
      "source": [
        "\n",
        "# Time Series Analysis\n",
        "freq = publication_frequency(df)\n",
        "\n",
        "# Publisher Analysis\n",
        "print(\"Unique domains:\", unique_domains(df))"
      ]
    }
  ],
  "metadata": {
    "kernelspec": {
      "display_name": "Python 3",
      "name": "python3"
    },
    "language_info": {
      "codemirror_mode": {
        "name": "ipython",
        "version": 3
      },
      "file_extension": ".py",
      "mimetype": "text/x-python",
      "name": "python",
      "nbconvert_exporter": "python",
      "pygments_lexer": "ipython3",
      "version": "3.13.1"
    },
    "colab": {
      "provenance": [],
      "gpuType": "T4"
    },
    "accelerator": "GPU"
  },
  "nbformat": 4,
  "nbformat_minor": 0
}